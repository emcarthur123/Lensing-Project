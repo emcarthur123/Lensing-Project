{
 "cells": [
  {
   "cell_type": "code",
   "execution_count": 9,
   "id": "d5c1d07a-3a25-4970-9b36-7c733fd704c7",
   "metadata": {},
   "outputs": [],
   "source": [
    "# import some helpful python packages \n",
    "import numpy as np\n",
    "\n",
    "from astropy.table import Table\n",
    "from astropy.convolution import convolve, Gaussian1DKernel\n",
    "\n",
    "import matplotlib \n",
    "import matplotlib.pyplot as plt\n",
    "import pandas as pd\n",
    "\n",
    "%matplotlib inline\n",
    "\n",
    "from dl import authClient as ac, queryClient as qc\n",
    "from dl.helpers.utils import convert\n",
    "from getpass import getpass"
   ]
  },
  {
   "cell_type": "code",
   "execution_count": 3,
   "id": "b8ab4ac0-273a-4f45-879c-a0883a26895c",
   "metadata": {},
   "outputs": [
    {
     "name": "stdin",
     "output_type": "stream",
     "text": [
      "Enter user name: (+ENTER)  edm2158\n",
      "Enter password: (+ENTER)  ········\n"
     ]
    },
    {
     "data": {
      "text/plain": [
       "'edm2158.4258.4258.$1$0s4qYkVC$kJcE3yIQYSdewtBL0p0xn.'"
      ]
     },
     "execution_count": 3,
     "metadata": {},
     "output_type": "execute_result"
    }
   ],
   "source": [
    "ac.login(input(\"Enter user name: (+ENTER) \"),getpass(\"Enter password: (+ENTER) \")) # credentials to log into datalab\n"
   ]
  },
  {
   "cell_type": "code",
   "execution_count": 5,
   "id": "9b4a6324-8bef-43c4-8fc5-81c02a195130",
   "metadata": {},
   "outputs": [],
   "source": [
    "query = \"\"\"\n",
    "SELECT zp.targetid, zp.survey, zp.program, zp.healpix,  \n",
    "       zp.z, zp.zwarn, zp.coadd_fiberstatus, zp.spectype, \n",
    "       zp.mean_fiber_ra, zp.mean_fiber_dec, zp.zcat_nspec, \n",
    "       CAST(zp.zcat_primary AS INT), zp.desi_target,\n",
    "       zp.sv1_desi_target, zp.sv2_desi_target, zp.sv3_desi_target\n",
    "FROM desi_edr.zpix AS zp\n",
    "\"\"\" \n",
    "\n",
    "## Information about the query\n",
    "## Selected columns --\n",
    "## targetid, survey, program -- unique identifiers for a given spectrum\n",
    "## healpix -- healpix number for the target\n",
    "## z -- spectroscopic redshift of the target\n",
    "## zwarn -- encoded information regarding the redshift (zwarn = 0 is good)\n",
    "## coadd_fiberstatus -- encoded information regarding the fiber that is assigned to the target (coadd_fiberstatus = 0 is good)\n",
    "## spectype -- Spectral type of the target: STAR | GALAXY | QSO\n",
    "## mean_fiber_ra, mean_fiber_dec -- Mean R.A. and Dec. of the fiber position from all the observations of the target\n",
    "## zcat_nspec -- Number of coadded spectra that are available for a given target\n",
    "## zcat_primary -- Whether or not a given coadded spectra is the primary spectra. ZCAT_PRIMARY = True for the \"best\" spectrum.\n",
    "## CASTing this column as an INT: ZCAT_PRIMARY = 1 for the \"best\" spectrum.\n",
    "## desi_target -- encodeds main survey's desi targeting information - explained in detail below\n",
    "## sv1_desi_target -- encodes sv1 desi targeting information\n",
    "## sv2_desi_target -- encodes sv2 desi targeting information\n",
    "## sv3_desi_target -- encodes sv3 desi targeting information"
   ]
  },
  {
   "cell_type": "code",
   "execution_count": 6,
   "id": "b279c901-d2d7-4117-8d66-a8b3776b1b59",
   "metadata": {},
   "outputs": [
    {
     "name": "stdout",
     "output_type": "stream",
     "text": [
      "CPU times: user 4.29 s, sys: 2.16 s, total: 6.46 s\n",
      "Wall time: 32.5 s\n"
     ]
    }
   ],
   "source": [
    "%%time\n",
    "zpix = qc.query(sql = query, fmt = 'pandas')"
   ]
  },
  {
   "cell_type": "code",
   "execution_count": 7,
   "id": "183ab554-e80f-41c2-bcac-279c94ddeee6",
   "metadata": {},
   "outputs": [
    {
     "name": "stdout",
     "output_type": "stream",
     "text": [
      "The resulting table has 2044588 rows\n"
     ]
    },
    {
     "data": {
      "text/html": [
       "<div>\n",
       "<style scoped>\n",
       "    .dataframe tbody tr th:only-of-type {\n",
       "        vertical-align: middle;\n",
       "    }\n",
       "\n",
       "    .dataframe tbody tr th {\n",
       "        vertical-align: top;\n",
       "    }\n",
       "\n",
       "    .dataframe thead th {\n",
       "        text-align: right;\n",
       "    }\n",
       "</style>\n",
       "<table border=\"1\" class=\"dataframe\">\n",
       "  <thead>\n",
       "    <tr style=\"text-align: right;\">\n",
       "      <th></th>\n",
       "      <th>targetid</th>\n",
       "      <th>survey</th>\n",
       "      <th>program</th>\n",
       "      <th>healpix</th>\n",
       "      <th>z</th>\n",
       "      <th>zwarn</th>\n",
       "      <th>coadd_fiberstatus</th>\n",
       "      <th>spectype</th>\n",
       "      <th>mean_fiber_ra</th>\n",
       "      <th>mean_fiber_dec</th>\n",
       "      <th>zcat_nspec</th>\n",
       "      <th>zcat_primary</th>\n",
       "      <th>desi_target</th>\n",
       "      <th>sv1_desi_target</th>\n",
       "      <th>sv2_desi_target</th>\n",
       "      <th>sv3_desi_target</th>\n",
       "    </tr>\n",
       "  </thead>\n",
       "  <tbody>\n",
       "    <tr>\n",
       "      <th>0</th>\n",
       "      <td>39633405607936686</td>\n",
       "      <td>sv3</td>\n",
       "      <td>dark</td>\n",
       "      <td>15340</td>\n",
       "      <td>0.349208</td>\n",
       "      <td>0</td>\n",
       "      <td>0</td>\n",
       "      <td>QSO</td>\n",
       "      <td>272.41810</td>\n",
       "      <td>61.551533</td>\n",
       "      <td>2</td>\n",
       "      <td>1</td>\n",
       "      <td>0</td>\n",
       "      <td>0</td>\n",
       "      <td>0</td>\n",
       "      <td>1152921504606855433</td>\n",
       "    </tr>\n",
       "    <tr>\n",
       "      <th>1</th>\n",
       "      <td>39633405607936686</td>\n",
       "      <td>sv3</td>\n",
       "      <td>bright</td>\n",
       "      <td>15340</td>\n",
       "      <td>0.349182</td>\n",
       "      <td>0</td>\n",
       "      <td>0</td>\n",
       "      <td>QSO</td>\n",
       "      <td>272.41812</td>\n",
       "      <td>61.551567</td>\n",
       "      <td>2</td>\n",
       "      <td>0</td>\n",
       "      <td>0</td>\n",
       "      <td>0</td>\n",
       "      <td>0</td>\n",
       "      <td>1152921504606855433</td>\n",
       "    </tr>\n",
       "    <tr>\n",
       "      <th>2</th>\n",
       "      <td>39633405607936462</td>\n",
       "      <td>sv3</td>\n",
       "      <td>bright</td>\n",
       "      <td>15340</td>\n",
       "      <td>-0.000327</td>\n",
       "      <td>0</td>\n",
       "      <td>0</td>\n",
       "      <td>STAR</td>\n",
       "      <td>272.39273</td>\n",
       "      <td>61.551990</td>\n",
       "      <td>1</td>\n",
       "      <td>1</td>\n",
       "      <td>0</td>\n",
       "      <td>0</td>\n",
       "      <td>0</td>\n",
       "      <td>2305843009213693952</td>\n",
       "    </tr>\n",
       "    <tr>\n",
       "      <th>3</th>\n",
       "      <td>39633405607936221</td>\n",
       "      <td>sv3</td>\n",
       "      <td>bright</td>\n",
       "      <td>15340</td>\n",
       "      <td>-0.000064</td>\n",
       "      <td>0</td>\n",
       "      <td>0</td>\n",
       "      <td>STAR</td>\n",
       "      <td>272.36700</td>\n",
       "      <td>61.496170</td>\n",
       "      <td>1</td>\n",
       "      <td>1</td>\n",
       "      <td>0</td>\n",
       "      <td>0</td>\n",
       "      <td>0</td>\n",
       "      <td>2305843009213693952</td>\n",
       "    </tr>\n",
       "    <tr>\n",
       "      <th>4</th>\n",
       "      <td>39633405603746754</td>\n",
       "      <td>sv3</td>\n",
       "      <td>bright</td>\n",
       "      <td>15340</td>\n",
       "      <td>0.262433</td>\n",
       "      <td>0</td>\n",
       "      <td>0</td>\n",
       "      <td>GALAXY</td>\n",
       "      <td>272.34732</td>\n",
       "      <td>61.499382</td>\n",
       "      <td>1</td>\n",
       "      <td>1</td>\n",
       "      <td>0</td>\n",
       "      <td>0</td>\n",
       "      <td>0</td>\n",
       "      <td>1152921504606846976</td>\n",
       "    </tr>\n",
       "  </tbody>\n",
       "</table>\n",
       "</div>"
      ],
      "text/plain": [
       "            targetid survey program  healpix         z  zwarn  \\\n",
       "0  39633405607936686    sv3    dark    15340  0.349208      0   \n",
       "1  39633405607936686    sv3  bright    15340  0.349182      0   \n",
       "2  39633405607936462    sv3  bright    15340 -0.000327      0   \n",
       "3  39633405607936221    sv3  bright    15340 -0.000064      0   \n",
       "4  39633405603746754    sv3  bright    15340  0.262433      0   \n",
       "\n",
       "   coadd_fiberstatus spectype  mean_fiber_ra  mean_fiber_dec  zcat_nspec  \\\n",
       "0                  0      QSO      272.41810       61.551533           2   \n",
       "1                  0      QSO      272.41812       61.551567           2   \n",
       "2                  0     STAR      272.39273       61.551990           1   \n",
       "3                  0     STAR      272.36700       61.496170           1   \n",
       "4                  0   GALAXY      272.34732       61.499382           1   \n",
       "\n",
       "   zcat_primary  desi_target  sv1_desi_target  sv2_desi_target  \\\n",
       "0             1            0                0                0   \n",
       "1             0            0                0                0   \n",
       "2             1            0                0                0   \n",
       "3             1            0                0                0   \n",
       "4             1            0                0                0   \n",
       "\n",
       "       sv3_desi_target  \n",
       "0  1152921504606855433  \n",
       "1  1152921504606855433  \n",
       "2  2305843009213693952  \n",
       "3  2305843009213693952  \n",
       "4  1152921504606846976  "
      ]
     },
     "execution_count": 7,
     "metadata": {},
     "output_type": "execute_result"
    }
   ],
   "source": [
    "print(f\"The resulting table has {len(zpix)} rows\")\n",
    "zpix[0:5]\n"
   ]
  },
  {
   "cell_type": "code",
   "execution_count": 10,
   "id": "982c0e76-d00e-4628-b43a-055c5d0559ea",
   "metadata": {},
   "outputs": [
    {
     "name": "stdout",
     "output_type": "stream",
     "text": [
      "Total N(rows) : 2044588\n",
      "N(rows) with unique TARGETIDs : 1979269\n",
      "N(rows) with ZCAT_PRIMARY=True : 1979269\n"
     ]
    }
   ],
   "source": [
    "# Check how many rows have unique TARGETIDs before/after applying the ZCAT_PRIMARY flag\n",
    "print(f\"Total N(rows) : {len(zpix)}\")\n",
    "print(f\"N(rows) with unique TARGETIDs : {len(np.unique(zpix['targetid']))}\")\n",
    "\n",
    "is_primary = zpix['zcat_primary']==1\n",
    "\n",
    "print(f\"N(rows) with ZCAT_PRIMARY=True : {len(zpix[is_primary])}\")"
   ]
  },
  {
   "cell_type": "code",
   "execution_count": null,
   "id": "a594e1b1-d610-4e1e-99e5-5672c3dc0cf6",
   "metadata": {},
   "outputs": [],
   "source": [
    "ˇˇ"
   ]
  }
 ],
 "metadata": {
  "kernelspec": {
   "display_name": "Python 3 (ipykernel)",
   "language": "python",
   "name": "python3"
  },
  "language_info": {
   "codemirror_mode": {
    "name": "ipython",
    "version": 3
   },
   "file_extension": ".py",
   "mimetype": "text/x-python",
   "name": "python",
   "nbconvert_exporter": "python",
   "pygments_lexer": "ipython3",
   "version": "3.11.3"
  }
 },
 "nbformat": 4,
 "nbformat_minor": 5
}
